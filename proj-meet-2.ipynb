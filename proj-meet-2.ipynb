{
 "cells": [
  {
   "cell_type": "code",
   "execution_count": 2,
   "metadata": {},
   "outputs": [
    {
     "ename": "ModuleNotFoundError",
     "evalue": "No module named 'yfinance'",
     "output_type": "error",
     "traceback": [
      "\u001b[0;31m---------------------------------------------------------------------------\u001b[0m",
      "\u001b[0;31mModuleNotFoundError\u001b[0m                       Traceback (most recent call last)",
      "Cell \u001b[0;32mIn[2], line 3\u001b[0m\n\u001b[1;32m      1\u001b[0m \u001b[38;5;28;01mimport\u001b[39;00m \u001b[38;5;21;01mnumpy\u001b[39;00m \u001b[38;5;28;01mas\u001b[39;00m \u001b[38;5;21;01mnp\u001b[39;00m\n\u001b[1;32m      2\u001b[0m \u001b[38;5;28;01mimport\u001b[39;00m \u001b[38;5;21;01mpandas\u001b[39;00m \u001b[38;5;28;01mas\u001b[39;00m \u001b[38;5;21;01mpd\u001b[39;00m\n\u001b[0;32m----> 3\u001b[0m \u001b[38;5;28;01mimport\u001b[39;00m \u001b[38;5;21;01myfinance\u001b[39;00m \u001b[38;5;28;01mas\u001b[39;00m \u001b[38;5;21;01myf\u001b[39;00m\n",
      "\u001b[0;31mModuleNotFoundError\u001b[0m: No module named 'yfinance'"
     ]
    }
   ],
   "source": [
    "import numpy as np\n",
    "import pandas as pd\n",
    "import yfinance as yf"
   ]
  },
  {
   "cell_type": "markdown",
   "metadata": {},
   "source": [
    "## Step 1 \n",
    "- pd.read_html() returns a list of tables (converted to dataframes) from an HTML page\n",
    "- Grab the first table using 0-index & select the columns we want"
   ]
  },
  {
   "cell_type": "code",
   "execution_count": null,
   "metadata": {},
   "outputs": [],
   "source": [
    "\n",
    "tickers = pd.read_html('https://en.wikipedia.org/wiki/List_of_S%26P_500_companies')[0][['Symbol', 'GICS Sector']]\n",
    "tickers"
   ]
  },
  {
   "cell_type": "markdown",
   "metadata": {},
   "source": [
    "## Step 2\n",
    "Clean the ticker data. Yahoo Finance has tickers for some companies with a hyphen in them. Ex. Brown-Forman Corporation (NYSE: BF-B). However, the ticker from the Wikipedia page is in the form BF.B. Yfinance will throw an error so clean the data to prevent errors."
   ]
  },
  {
   "cell_type": "code",
   "execution_count": null,
   "metadata": {},
   "outputs": [],
   "source": [
    "# Replace all '.' with a '-' in the symbol column\n",
    "type(tickers['Symbol'])\n",
    "\n",
    "# Internally, Pandas columns are stored as Series objects, which are essentially NumPy arrays (with some extra methods and properties)\n",
    "# This is why we can use NumPy's vectorized string methods on the column at once rather than looping through each row\n",
    "tickers['Symbol'] = tickers['Symbol'].str.replace('.', '-')\n",
    "tickers[tickers['Symbol'] == 'BF-B']"
   ]
  },
  {
   "cell_type": "markdown",
   "metadata": {},
   "source": [
    "## Step 3\n",
    "- Convert the dataframe to a dictionary of key-value pairs\n",
    "- Keys: Sectors, Values: Tickers in each sector"
   ]
  },
  {
   "cell_type": "code",
   "execution_count": null,
   "metadata": {},
   "outputs": [],
   "source": [
    "# Breakdown dataframe into keys of sectors & values of tickers\n",
    "sector_breakdown = tickers.groupby('GICS Sector')['Symbol'].apply(list)\n",
    "sector_breakdown = sector_breakdown.to_dict()\n",
    "sector_breakdown"
   ]
  },
  {
   "cell_type": "markdown",
   "metadata": {},
   "source": [
    "## Step 4\n",
    "Get all tickers into a list to put into yfinance"
   ]
  },
  {
   "cell_type": "code",
   "execution_count": null,
   "metadata": {},
   "outputs": [],
   "source": [
    "# Get all tickers from sector_breakdown into a single list\n",
    "ticker_list = []\n",
    "for sector in sector_breakdown:\n",
    "    ticker_list.extend(sector_breakdown[sector])\n",
    "\n",
    "ticker_list   "
   ]
  },
  {
   "cell_type": "markdown",
   "metadata": {},
   "source": [
    "## Step 5\n",
    "- Extract data for all tickers through yfinance\n",
    "- Extract the Adj Close for the past month"
   ]
  },
  {
   "cell_type": "code",
   "execution_count": null,
   "metadata": {},
   "outputs": [],
   "source": [
    "# Get today's date\n",
    "today = pd.Timestamp.today().strftime('%Y-%m-%d')\n",
    "\n",
    "# Get the date 1 month ago\n",
    "month_ago = pd.Timestamp.today() - pd.DateOffset(months=1)\n",
    "\n",
    "# Get data from yfinance for all tickers\n",
    "data = yf.download(ticker_list, start=month_ago, end=today)\n",
    "\n",
    "# Keep just the Adj Close column\n",
    "data = data.drop(columns=['Open', 'High', 'Low', 'Close', 'Volume'])\n",
    "data\n",
    "\n",
    "# IMPORTANT: Notice how yfinance doesn't throw an error for tickers like BF.B since we cleaned the inputs before extracting our dataset"
   ]
  },
  {
   "cell_type": "markdown",
   "metadata": {},
   "source": [
    "## Step 6\n",
    "We need to do some additional data cleaning. For some days, Yahoo Finance may not have stock price values. Those values will be marked as NaN, or Null. Null indicates the absence of values. We can't have NaN values because our calculations later on will throw errors.\n",
    "\n",
    "To fix this, we are going to use the **backward fill** followed by the **forward fill** method. These method basically takes the value from the previous index (for forward fill) or the next index (for backward fill) and fills the NaN index with it. We are going to use an **axis value of 0**, which means we take the value from the previous (or next) row to fill it in.\n",
    "\n",
    "![Alt text](image.png)"
   ]
  },
  {
   "cell_type": "code",
   "execution_count": null,
   "metadata": {},
   "outputs": [],
   "source": [
    "# Backward fill NaN values\n",
    "data = data.fillna(method='bfill', axis=0)\n",
    "\n",
    "# Backward fill NaN values\n",
    "data = data.fillna(method='ffill', axis=0)\n",
    "\n",
    "# Print number of NA values across each column\n",
    "print(data.isna().sum(axis=1))\n",
    "\n",
    "# If you have NaN values still, then account for this when making calculations further down the line\n",
    "# Using forward fill means we account for situations like this: 3.0 3.0 NaN NaN NaN NaN\n",
    "# Using backward fill means we account for situations like this: NaN NaN NaN NaN 3.0 3.0"
   ]
  },
  {
   "cell_type": "markdown",
   "metadata": {},
   "source": [
    "## Step 7\n",
    "- Calculate our daily returns using the **pct_change()** function in Pandas\n",
    "- Aggregate our returns by sector\n",
    "- Calculate average daily return for each sector"
   ]
  },
  {
   "cell_type": "code",
   "execution_count": null,
   "metadata": {},
   "outputs": [],
   "source": [
    "# Calculate daily returns\n",
    "returns = data.pct_change()\n",
    "\n",
    "# Drop the index name Adj Close\n",
    "returns = returns.droplevel(0, axis=1)\n",
    "\n",
    "# Group tickers in returns dataframe by sector using sector_breakdown's keys & values\n",
    "sector_mean_returns = {}\n",
    "\n",
    "# Extract each key & value pair from sector_breakdown\n",
    "for sector, tickers in sector_breakdown.items():\n",
    "    # Get tickers for each sector\n",
    "    sector_data = returns[tickers]\n",
    "\n",
    "    # Calculate mean returns for each sector and add to dictionary\n",
    "    sector_mean_returns[sector] = sector_data.mean(axis=1)\n",
    "\n",
    "# Convert sector_mean_returns dict to a DataFrame\n",
    "sector_mean_returns = pd.DataFrame(sector_mean_returns)\n",
    "\n",
    "sector_mean_returns"
   ]
  },
  {
   "cell_type": "markdown",
   "metadata": {},
   "source": [
    "## Step 8\n",
    "Drop rows that have NaN values"
   ]
  },
  {
   "cell_type": "code",
   "execution_count": null,
   "metadata": {},
   "outputs": [],
   "source": [
    "# Drop rows that have NaN values\n",
    "sector_mean_returns = sector_mean_returns.dropna()\n",
    "sector_mean_returns"
   ]
  },
  {
   "cell_type": "markdown",
   "metadata": {},
   "source": [
    "## Step 9\n",
    "Define a function that does the following:\n",
    "- Calculate overall portfolio return\n",
    "- Calculate overall portfolio volatility\n",
    "- Calculate Sharpe Ratio\n",
    "\n",
    "Return a list with all 3 statistics"
   ]
  },
  {
   "cell_type": "code",
   "execution_count": null,
   "metadata": {},
   "outputs": [],
   "source": [
    "def portfolio_stats(weights, sector_mean_returns):\n",
    "\n",
    "    # Since we have data for 1 month, multiply by 12 to get annualized return\n",
    "    annualization_factor = 12\n",
    "\n",
    "    # Calculate portfolio return using the annualization factor\n",
    "    portfolio_return_annual = np.sum(sector_mean_returns.mean(axis=0) * weights) * annualization_factor\n",
    "\n",
    "    # Calculate portfolio volatility (standard deviation)\n",
    "    portfolio_volatility_monthly = np.sqrt(np.dot(weights.T, np.dot(sector_mean_returns.cov(), weights)))\n",
    "\n",
    "    # Annualize the volatility by multiplying by the square root of 12\n",
    "    portfolio_volatility_annual = portfolio_volatility_monthly * np.sqrt(annualization_factor)\n",
    "\n",
    "    # Calculate portfolio sharpe ratio\n",
    "    sharpe_ratio = portfolio_return_annual / portfolio_volatility_annual\n",
    "\n",
    "    return np.array([portfolio_return_annual, portfolio_volatility_annual, sharpe_ratio])\n",
    "\n",
    "# Test the function with sample weights for all 11 S&P 500 sectors\n",
    "weights = np.array([0.1, 0.1, 0.1, 0.1, 0.1, 0.1, 0.1, 0.1, 0.1, 0.05, 0.05])\n",
    "output = pd.DataFrame(portfolio_stats(weights, sector_mean_returns), index=['Annual Portfolio Return', 'Annual Portfolio Volatility', 'Sharpe Ratio'], columns=['Value'])\n",
    "output"
   ]
  },
  {
   "cell_type": "markdown",
   "metadata": {},
   "source": [
    "## Step 9 (Cont.)\n",
    "Visualizing the variance-covariance matrix (not necessary, just showing you what happens so you understand)"
   ]
  },
  {
   "cell_type": "code",
   "execution_count": null,
   "metadata": {},
   "outputs": [],
   "source": [
    "# Calculate the variance-covariance matrix for the 11 sector returns\n",
    "cov_matrix = sector_mean_returns.cov()\n",
    "cov_matrix"
   ]
  }
 ],
 "metadata": {
  "kernelspec": {
   "display_name": "Python 3.11.6 64-bit",
   "language": "python",
   "name": "python3"
  },
  "language_info": {
   "codemirror_mode": {
    "name": "ipython",
    "version": 3
   },
   "file_extension": ".py",
   "mimetype": "text/x-python",
   "name": "python",
   "nbconvert_exporter": "python",
   "pygments_lexer": "ipython3",
   "version": "3.11.6"
  },
  "orig_nbformat": 4,
  "vscode": {
   "interpreter": {
    "hash": "b0fa6594d8f4cbf19f97940f81e996739fb7646882a419484c72d19e05852a7e"
   }
  }
 },
 "nbformat": 4,
 "nbformat_minor": 2
}
